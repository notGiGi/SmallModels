{
 "cells": [
  {
   "cell_type": "code",
   "execution_count": null,
   "id": "52ecfbda",
   "metadata": {
    "vscode": {
     "languageId": "plaintext"
    }
   },
   "outputs": [],
   "source": [
    "import os\n",
    "\n",
    "if os.path.exists(\"SmallModels\"):\n",
    "    print(\"📦 Pulling latest changes...\")\n",
    "    %cd SmallModels\n",
    "    !git pull origin main\n",
    "    print(\"\\n✅ Repository updated\")\n",
    "else:\n",
    "    print(\"📦 Cloning repository...\")\n",
    "    !git clone https://github.com/notGiGi/SmallModels.git\n",
    "    %cd SmallModels\n",
    "    print(\"\\n✅ Repository cloned\")\n",
    "\n",
    "print(\"\\n📚 Installing dependencies...\")\n",
    "!pip install -q lm-eval transformers accelerate datasets torch\n",
    "print(\"\\n✅ Setup complete!\")"
   ]
  },
  {
   "cell_type": "code",
   "execution_count": null,
   "id": "51910335",
   "metadata": {
    "vscode": {
     "languageId": "plaintext"
    }
   },
   "outputs": [],
   "source": [
    "import torch\n",
    "\n",
    "print(\"\\n\" + \"=\"*60)\n",
    "print(\"GPU STATUS\")\n",
    "print(\"=\"*60)\n",
    "\n",
    "if torch.cuda.is_available():\n",
    "    print(f\"✅ GPU: {torch.cuda.get_device_name(0)}\")\n",
    "    print(f\"✅ VRAM: {torch.cuda.get_device_properties(0).total_memory/1e9:.1f} GB\")\n",
    "else:\n",
    "    print(\"⚠️  No GPU detected!\")\n",
    "\n",
    "print(\"=\"*60 + \"\\n\")"
   ]
  },
  {
   "cell_type": "code",
   "execution_count": null,
   "id": "7b752942",
   "metadata": {
    "vscode": {
     "languageId": "plaintext"
    }
   },
   "outputs": [],
   "source": [
    "from scripts.colab_helpers import (\n",
    "    evaluate_model_by_name,\n",
    "    print_model_info\n",
    ")\n",
    "\n",
    "print_model_info()\n",
    "print(\"✅ Helpers loaded\\n\")"
   ]
  },
  {
   "cell_type": "code",
   "execution_count": null,
   "id": "9eda85b9",
   "metadata": {
    "vscode": {
     "languageId": "plaintext"
    }
   },
   "outputs": [],
   "source": [
    "results_smollm = evaluate_model_by_name(\"smollm\")"
   ]
  },
  {
   "cell_type": "code",
   "execution_count": null,
   "id": "6e8612e9",
   "metadata": {
    "vscode": {
     "languageId": "plaintext"
    }
   },
   "outputs": [],
   "source": [
    "results_tinyllama = evaluate_model_by_name(\"tinyllama\")"
   ]
  },
  {
   "cell_type": "code",
   "execution_count": null,
   "id": "1cecc436",
   "metadata": {
    "vscode": {
     "languageId": "plaintext"
    }
   },
   "outputs": [],
   "source": [
    "results_qwen = evaluate_model_by_name(\"qwen\")"
   ]
  },
  {
   "cell_type": "code",
   "execution_count": null,
   "id": "c2c7fa71",
   "metadata": {
    "vscode": {
     "languageId": "plaintext"
    }
   },
   "outputs": [],
   "source": [
    "results_gemma = evaluate_model_by_name(\"results_gemma\")"
   ]
  },
  {
   "cell_type": "code",
   "execution_count": null,
   "id": "89e95e99",
   "metadata": {
    "vscode": {
     "languageId": "plaintext"
    }
   },
   "outputs": [],
   "source": [
    "results_phi3 = evaluate_model_by_name(\"phi3\")"
   ]
  }
 ],
 "metadata": {
  "language_info": {
   "name": "python"
  }
 },
 "nbformat": 4,
 "nbformat_minor": 5
}
